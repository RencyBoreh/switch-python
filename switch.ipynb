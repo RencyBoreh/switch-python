{
 "cells": [
  {
   "cell_type": "code",
   "execution_count": 5,
   "id": "bd2eccda-fb77-44b5-a9b9-b2376015259f",
   "metadata": {},
   "outputs": [
    {
     "name": "stdout",
     "output_type": "stream",
     "text": [
      "Invalid Day!\n"
     ]
    }
   ],
   "source": [
    "#an alternative to using many 'elif' statements.\n",
    "#executes some codes if a value matches a case\n",
    "#cleaner and the syntax is more readable\n",
    "def days_of_the_week(day):\n",
    "    match day:\n",
    "      case 1:\n",
    "          return\"Monday\"\n",
    "      case 2:\n",
    "          return\"Tuesday\"\n",
    "      case 3:\n",
    "          return \"Wednesday\"\n",
    "      case 4:\n",
    "          return \"Thursday\"\n",
    "      case 5:\n",
    "          return \"Friday\"\n",
    "      case 6:\n",
    "          return \"Saturday\"\n",
    "      case 7:\n",
    "          return\"Sunday\"\n",
    "      case _:\n",
    "          return\"Invalid Day!\"\n",
    "print(days_of_the_week(12))\n",
    "    "
   ]
  },
  {
   "cell_type": "code",
   "execution_count": null,
   "id": "61c9a8f2-f871-4249-95be-d569a545fed0",
   "metadata": {},
   "outputs": [],
   "source": []
  }
 ],
 "metadata": {
  "kernelspec": {
   "display_name": "Python 3 (ipykernel)",
   "language": "python",
   "name": "python3"
  },
  "language_info": {
   "codemirror_mode": {
    "name": "ipython",
    "version": 3
   },
   "file_extension": ".py",
   "mimetype": "text/x-python",
   "name": "python",
   "nbconvert_exporter": "python",
   "pygments_lexer": "ipython3",
   "version": "3.12.4"
  }
 },
 "nbformat": 4,
 "nbformat_minor": 5
}
